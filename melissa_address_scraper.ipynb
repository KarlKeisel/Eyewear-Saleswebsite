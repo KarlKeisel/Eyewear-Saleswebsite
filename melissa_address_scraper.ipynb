{
 "cells": [
  {
   "cell_type": "code",
   "execution_count": 201,
   "metadata": {},
   "outputs": [
    {
     "data": {
      "text/plain": [
       "\"\\nKarl's Web Scraper for the Melissa Data Website\\n\\nUsing the carrier routes tab, will pull all the addresses and for any city and rural routes.\\n\\nUsage:\\nEnter a zip code, then it will cycle through and pull all addresses and put them into a CSV File.\\n\""
      ]
     },
     "execution_count": 201,
     "metadata": {},
     "output_type": "execute_result"
    }
   ],
   "source": [
    "\"\"\"\n",
    "Karl's Web Scraper for the Melissa Data Website\n",
    "\n",
    "Using the carrier routes tab, will pull all the addresses and for any city and rural routes.\n",
    "\n",
    "Usage:\n",
    "Enter a zip code, then it will cycle through and pull all addresses and put them into a CSV File.\n",
    "\"\"\""
   ]
  },
  {
   "cell_type": "code",
   "execution_count": 202,
   "metadata": {},
   "outputs": [],
   "source": [
    "import requests\n",
    "from bs4 import BeautifulSoup\n",
    "import pandas"
   ]
  },
  {
   "cell_type": "code",
   "execution_count": null,
   "metadata": {},
   "outputs": [],
   "source": [
    "# TODO Write the initial code that allows you to insert any zipcode and it will look up all pages for City and Rural routes.\n",
    "# City routes : 'CXXX' ; Rural routes : 'RXXX' Return a list that we will use in below code.\n",
    "\n",
    "# TODO Afterwards, take below code and roll it into a for loop."
   ]
  },
  {
   "cell_type": "code",
   "execution_count": 203,
   "metadata": {},
   "outputs": [],
   "source": [
    "r = requests.get(\"https://www.melissa.com/lookups/cartzip.asp?zip=30076&cart=C028\")\n",
    "c = r.content\n",
    "\n",
    "soup = BeautifulSoup(c, \"html.parser\")\n"
   ]
  },
  {
   "cell_type": "code",
   "execution_count": 204,
   "metadata": {},
   "outputs": [
    {
     "ename": "IndexError",
     "evalue": "list index out of range",
     "output_type": "error",
     "traceback": [
      "\u001b[1;31m---------------------------------------------------------------------------\u001b[0m",
      "\u001b[1;31mIndexError\u001b[0m                                Traceback (most recent call last)",
      "\u001b[1;32m<ipython-input-204-ecaf5a75d817>\u001b[0m in \u001b[0;36m<module>\u001b[1;34m\u001b[0m\n\u001b[0;32m      3\u001b[0m \u001b[0mtable\u001b[0m \u001b[1;33m=\u001b[0m \u001b[0msoup\u001b[0m\u001b[1;33m.\u001b[0m\u001b[0mfind_all\u001b[0m\u001b[1;33m(\u001b[0m\u001b[1;34m\"table\"\u001b[0m\u001b[1;33m,\u001b[0m \u001b[1;33m{\u001b[0m\u001b[1;34m\"class\"\u001b[0m\u001b[1;33m:\u001b[0m \u001b[1;34m\"Tableresultborder\"\u001b[0m\u001b[1;33m}\u001b[0m\u001b[1;33m)\u001b[0m\u001b[1;33m\u001b[0m\u001b[0m\n\u001b[0;32m      4\u001b[0m \u001b[1;33m\u001b[0m\u001b[0m\n\u001b[1;32m----> 5\u001b[1;33m \u001b[0mtable_row\u001b[0m \u001b[1;33m=\u001b[0m \u001b[0mtable\u001b[0m\u001b[1;33m[\u001b[0m\u001b[1;36m0\u001b[0m\u001b[1;33m]\u001b[0m\u001b[1;33m.\u001b[0m\u001b[0mfind_all\u001b[0m\u001b[1;33m(\u001b[0m\u001b[1;34m\"tr\"\u001b[0m\u001b[1;33m)\u001b[0m\u001b[1;33m\u001b[0m\u001b[0m\n\u001b[0m\u001b[0;32m      6\u001b[0m \u001b[0mtable_row\u001b[0m \u001b[1;33m=\u001b[0m \u001b[0mtable_row\u001b[0m\u001b[1;33m[\u001b[0m\u001b[1;36m2\u001b[0m\u001b[1;33m:\u001b[0m\u001b[1;33m]\u001b[0m\u001b[1;33m\u001b[0m\u001b[0m\n",
      "\u001b[1;31mIndexError\u001b[0m: list index out of range"
     ]
    }
   ],
   "source": [
    "address_list = []\n",
    "\n",
    "table = soup.find_all(\"table\", {\"class\": \"Tableresultborder\"})\n",
    "\n",
    "table_row = table[0].find_all(\"tr\")\n",
    "table_row = table_row[2:]"
   ]
  },
  {
   "cell_type": "code",
   "execution_count": null,
   "metadata": {},
   "outputs": [],
   "source": [
    "def address_count(start, end, street, scale):\n",
    "    global address_list\n",
    "    if scale == True:\n",
    "        scaler = 2\n",
    "    else:\n",
    "        scaler = 1\n",
    "    starter = start\n",
    "    for step in range(int((end-start)/scaler)):\n",
    "        address_list.append(str(starter) + \" \" + str(street) + \" Roswell, GA 30076\")\n",
    "        starter += scale"
   ]
  },
  {
   "cell_type": "code",
   "execution_count": null,
   "metadata": {},
   "outputs": [],
   "source": [
    "numbers = []\n",
    "street = []\n",
    "even_odd = []\n",
    "for i in table_row:\n",
    "    if \"Only\" in i.find_all('td')[0].text:\n",
    "        even_odd.append(True)\n",
    "    else:\n",
    "        even_odd.append(False)\n",
    "    numbers.append(i.find_all('td')[0].text.split(\"(\")[0].split(\" to \"))\n",
    "    street.append(i.find_all('td')[1].text)\n",
    "#     print(i.find_all('td')[0].text.split(\"(\")[0].split(\" to \"))"
   ]
  },
  {
   "cell_type": "code",
   "execution_count": null,
   "metadata": {},
   "outputs": [],
   "source": [
    "for x, y, j in zip(numbers, street, even_odd):\n",
    "    try:\n",
    "        address_count(int(x[0]), int(x[1]), y, j)\n",
    "    except:\n",
    "        pass"
   ]
  },
  {
   "cell_type": "code",
   "execution_count": null,
   "metadata": {},
   "outputs": [],
   "source": [
    "df['Address'] = pandas.DataFrame(address_list)\n",
    "df.to_csv(\"Address_List_Test9.csv\", index=False)"
   ]
  },
  {
   "cell_type": "code",
   "execution_count": null,
   "metadata": {},
   "outputs": [],
   "source": []
  }
 ],
 "metadata": {
  "kernelspec": {
   "display_name": "Python 3",
   "language": "python",
   "name": "python3"
  },
  "language_info": {
   "codemirror_mode": {
    "name": "ipython",
    "version": 3
   },
   "file_extension": ".py",
   "mimetype": "text/x-python",
   "name": "python",
   "nbconvert_exporter": "python",
   "pygments_lexer": "ipython3",
   "version": "3.7.0"
  }
 },
 "nbformat": 4,
 "nbformat_minor": 2
}
