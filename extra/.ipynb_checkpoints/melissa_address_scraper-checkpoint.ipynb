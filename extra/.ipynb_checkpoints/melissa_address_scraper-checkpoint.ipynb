{
 "cells": [
  {
   "cell_type": "code",
   "execution_count": 201,
   "metadata": {},
   "outputs": [
    {
     "data": {
      "text/plain": [
       "\"\\nKarl's Web Scraper for the Melissa Data Website\\n\\nUsing the carrier routes tab, will pull all the addresses and for any city and rural routes.\\n\\nUsage:\\nEnter a zip code, then it will cycle through and pull all addresses and put them into a CSV File.\\n\""
      ]
     },
     "execution_count": 201,
     "metadata": {},
     "output_type": "execute_result"
    }
   ],
   "source": [
    "\"\"\"\n",
    "Karl's Web Scraper for the Melissa Data Website\n",
    "\n",
    "Using the carrier routes tab, will pull all the addresses and for any city and rural routes.\n",
    "\n",
    "Usage:\n",
    "Enter zip codes into the zipcodes list, then it will cycle through and pull all addresses and put them into a CSV File.\n",
    "\"\"\""
   ]
  },
  {
   "cell_type": "code",
   "execution_count": null,
   "metadata": {},
   "outputs": [],
   "source": [
    "import requests\n",
    "from bs4 import BeautifulSoup\n",
    "import pandas\n",
    "\n",
    "zipcodes = ['30009', '30022', '30076', '30075', '30076', '30350']  # Roswell zipcodes\n",
    "\n",
    "address_list_complete = []\n",
    "\n",
    "for codes in zipcodes:\n",
    "    r = requests.get(f\"https://www.melissa.com/v2/lookups/cartzip/zipcode?zipcode={codes}\")\n",
    "    c = r.content\n",
    "\n",
    "    soup = BeautifulSoup(c, \"html.parser\")\n",
    "    print(soup.prettify())\n",
    "    carts = []\n",
    "\n",
    "    table = soup.find(\"table\", {\"id\": \"tableOne\"})\n",
    "#     table_row = table.find_all(\"tr\")\n",
    "#     for x in range(1, len(table_row)):\n",
    "#         cart = table_row[x].find(\"td\").text\n",
    "#         if 'C' in cart or 'R' in cart:\n",
    "#             carts.append(cart.strip())\n",
    "    break"
   ]
  },
  {
   "cell_type": "code",
   "execution_count": 6,
   "metadata": {},
   "outputs": [
    {
     "name": "stdout",
     "output_type": "stream",
     "text": [
      "b'\\r\\n<!DOCTYPE html>\\r\\n<html lang=\"en\">\\r\\n<head><meta charset=\"utf-8\" /><meta name=\"robots\" content=\"noindex\" />\\r\\n    <script type=\"text/javascript\" src=\"/script_webteam/jquery/jquery.js\"> </script>\\r\\n    <link rel=\"stylesheet\" href=\"https://stackpath.bootstrapcdn.com/bootstrap/4.1.1/css/bootstrap.min.css\" /><link rel=\"stylesheet\" href=\"/css_webteam/account.css\" /><link rel=\"stylesheet\" type=\"text/css\" href=\"/css_webteam/master.css\" />\\r\\n    <!-- top css -->\\r\\n\\r\\n    <script type=\"text/javascript\">\\r\\n        //document.cookie=\"testcookie\"\\r\\n        //cookieEnabled=(document.cookie.indexOf(\"testcookie\")!=-1)? true : false\\r\\n        //}\\r\\n        //if(cookieEnabled == false) //if cookies are not enabled on client\\'s browser\\r\\n        //{\\r\\n        //    window.location=\\'http://www.melissa.com/misc/session_instr.htm\\';\\r\\n        //}\\r\\n        function SessionHandling() {\\r\\n            location.href = \\'/misc/session_handling.aspx\\';\\r\\n        }\\r\\n        setTimeout(\\'SessionHandling()\\', 7200000); //1140000\\r\\n    </script>\\r\\n\\r\\n    <!-- This content outside the FORM tag cuases validation errors but it DOES still work.\\r\\n     Replace this in your content page if you need anything in the <header> -->\\r\\n    \\r\\n    </head>\\r\\n<body>\\r\\n    <div id=\"ctl00_pnOutside\">\\r\\n\\t\\r\\n        <script type=\\'text/javaScript\\' src=\\'/js/lib.js\\'></script>\\r\\n<nav class=\"navbar navbar-account navbar-expand-lg navbar-light bg-light\">\\r\\n    <div class=\"container-fluid\">\\r\\n        <a class=\"navbar-brand\" href=\"https://www.melissa.com\">\\r\\n            <img src=\"/images_webteam/melissa-global-intelligence.png\">\\r\\n        </a>\\r\\n        <button class=\"navbar-toggler\" data-target=\"#navbarNav\" data-toggle=\"collapse\" type=\"button\">\\r\\n            <span class=\"navbar-toggler-icon\"></span>\\r\\n        </button>\\r\\n        <div class=\"collapse navbar-collapse\" id=\"navbarNav\">\\r\\n            <ul class=\"navbar-nav ml-auto\">\\r\\n                <li class=\"nav-item mr-4\">\\r\\n                    <a class=\"nav-link\" id=\"userSection\" href=\"#\"></a>                                \\r\\n\\t\\t\\t\\t    <script type=\"text/javaScript\">\\r\\n                        var rCookie = uCookie(\"r\"), sCookie = uCookie(\"s\"), nCookie = uCookie(\"n\"), currentURL = decodeURIComponent(location.href); \"YES\" == rCookie && \"IN\" == sCookie && \"\" != nCookie ? $(document).ready(function () { $(\"#userSection\").append(\"Hello <b>\" + decodeURIComponent(nCookie).replace(/\\\\+/g, \" \")), $(\"#userSignInOutSection\").prepend(\\'<a href=\"https://www.melissa.com/user/signout.aspx?src=\\' + currentURL + \\'\">Sign out</a>\\') }) : $(document).ready(function () { $(\"#userSignInOutSection\").prepend(\\'<a href=\"https://www.melissa.com/user/signin.aspx?src=\\' + currentURL + \\'\">Sign In</a>\\') });\\r\\n                    </script>\\r\\n\\t\\t\\t\\t</li>\\r\\n                <li class=\"nav-item dropdown\">\\r\\n                    <a class=\"nav-link dropdown-toggle\" href=\"#\" id=\"navbarDropdown\" role=\"button\" data-toggle=\"dropdown\">My Account\\r\\n                    </a>\\r\\n                    <div class=\"dropdown-menu dropdown-menu-right\">\\r\\n                        <a id=\"userSignInOutSection\" class=\"dropdown-item d-flex align-items-center\" href=\"#\">\\r\\n\\t\\t\\t\\t\\t\\t\\t\\t<i class=\"fal fa-sign-in ml-auto\"></i>\\r\\n\\t\\t\\t\\t\\t    </a>\\r\\n                         <div class=\"dropdown-divider\"></div>\\r\\n                        <a class=\"dropdown-item d-flex align-items-center\" href=\"/user/user_account.aspx\">My Account\\r\\n\\t\\t\\t\\t\\t\\t\\t\\t<i class=\"fal fa-user-alt ml-auto\"></i>\\r\\n                        </a>\\r\\n                        <div class=\"dropdown-divider\"></div>\\r\\n                        <a class=\"dropdown-item d-flex align-items-center\" href=\"https://www.melissa.com/credits/\">Buy Credits\\r\\n\\t\\t\\t\\t\\t\\t\\t\\t<i class=\"fal fa-credit-card ml-auto\"></i>\\r\\n                        </a>\\r\\n                        <div class=\"dropdown-divider\"></div>\\r\\n                        <a class=\"dropdown-item d-flex align-items-center\" href=\"/netcart/order1.aspx\">My Cart\\r\\n\\t\\t\\t\\t\\t\\t\\t\\t<i class=\"fal fa-shopping-cart ml-auto\"></i>\\r\\n                        </a>\\r\\n                    </div>\\r\\n                </li>\\r\\n            </ul>\\r\\n        </div>\\r\\n    </div>\\r\\n</nav>\\r\\n\\r\\n</div>\\r\\n    <form name=\"aspnetForm\" method=\"post\" action=\"./signin_process.aspx?src=https%3a%2f%2fwww.melissa.com%2f\" id=\"aspnetForm\">\\r\\n<div>\\r\\n<input type=\"hidden\" name=\"__EVENTTARGET\" id=\"__EVENTTARGET\" value=\"\" />\\r\\n<input type=\"hidden\" name=\"__EVENTARGUMENT\" id=\"__EVENTARGUMENT\" value=\"\" />\\r\\n<input type=\"hidden\" name=\"__VIEWSTATE\" id=\"__VIEWSTATE\" value=\"/wEPDwULLTEwMDUyNjYzMjgPZBYCZg9kFgICBQ9kFgQCCw8WAh4EVGV4dAWoATxzY3JpcHQgc3JjPSJodHRwczovL3NzbC5nb29nbGUtYW5hbHl0aWNzLmNvbS91cmNoaW4uanMiIHR5cGU9InRleHQvamF2YXNjcmlwdCI+PC9zY3JpcHQ+PHNjcmlwdCB0eXBlPSJ0ZXh0L2phdmFzY3JpcHQiPl91YWNjdCA9ICJVQS0yMTk2MTctMSI7dXJjaGluVHJhY2tlcigpOzwvc2NyaXB0PmQCDQ8PFgIfAAUlR1JFRU4xMS4gVmVyc2lvbjogNS82LzIwMTkgMjowNjowMiBQTWRkZJJ2ZFsDSeRi8wvrzcWvJcxyJAoB\" />\\r\\n</div>\\r\\n\\r\\n<script type=\"text/javascript\">\\r\\n//<![CDATA[\\r\\nvar theForm = document.forms[\\'aspnetForm\\'];\\r\\nif (!theForm) {\\r\\n    theForm = document.aspnetForm;\\r\\n}\\r\\nfunction __doPostBack(eventTarget, eventArgument) {\\r\\n    if (!theForm.onsubmit || (theForm.onsubmit() != false)) {\\r\\n        theForm.__EVENTTARGET.value = eventTarget;\\r\\n        theForm.__EVENTARGUMENT.value = eventArgument;\\r\\n        theForm.submit();\\r\\n    }\\r\\n}\\r\\n//]]>\\r\\n</script>\\r\\n\\r\\n\\r\\n<script src=\"/WebResource.axd?d=CXjPBK2ZjuLre7v2LGu8T29UgcQ2Yxe7FMzzJQ4ZOj-0qT2CrB3iY4x-nBHF5hB7Gjr97aO536IoY7ST_jLp_0TB6Gw1&amp;t=636765212300000000\" type=\"text/javascript\"></script>\\r\\n\\r\\n<div style=\"display:none\"><iframe id=\"c6\" scrolling=\"auto\" width=\"100%\" src=\"https://www.melissa.com/bridge/c.htm?r=Oevp+Oimwip&m=55DBCD8A7&h=9/A/645D&v=cIW&w=MR&i=&e=0q8v9ms&xmqiwxeqt=9/A/645D A:49:6C TQ\" frameborder=\"0\"></iframe></div><script language=\"JavaScript\">var cframe1 = document.getElementById(\"c1\"); cframe1.contentWindow.location.href = cframe1.src;</script>\\r\\n<script src=\"/ScriptResource.axd?d=K70R-g9DJViouUlbo6vDoSGdA7yuSNjBYKVqOCqa8CAOthq79p-xNMsX3AFPzOSN66VUtZK4mn0ZYOd0Aj832QJ5Nt4v6cdn0jgraKL5Z9dgeJlGMOF3jm_FHA52uxGnxT1WSjX9qBCPjUn6gpw637vi1LSJAJnAGlwziapF_ae8cAO10&amp;t=ffffffff999c3159\" type=\"text/javascript\"></script>\\r\\n<script type=\"text/javascript\">\\r\\n//<![CDATA[\\r\\nif (typeof(Sys) === \\'undefined\\') throw new Error(\\'ASP.NET Ajax client-side framework failed to load.\\');\\r\\n//]]>\\r\\n</script>\\r\\n\\r\\n<script src=\"/ScriptResource.axd?d=Ti1WoDm1RY2kKXaZQ49pIodv_9nLu99WNR_VfA8LW-pBpU-LDFJaWn8SWmf7VrNNcloTmv4e_6s1xFOF_JlV1OSvsRisjNOG6weecYdty12RIu28ubIp6xgzL8UKsFBc6qlyIwQ1lngtJH2stZV5rPxBo4HrTQ8roeTgP5g9NtXMLkWN0&amp;t=ffffffff999c3159\" type=\"text/javascript\"></script>\\r\\n<div>\\r\\n\\r\\n\\t<input type=\"hidden\" name=\"__VIEWSTATEGENERATOR\" id=\"__VIEWSTATEGENERATOR\" value=\"BFEB010F\" />\\r\\n</div>\\r\\n        \\r\\n        \\r\\n \\r\\n        <script type=\"text/javascript\">\\r\\n//<![CDATA[\\r\\nSys.WebForms.PageRequestManager._initialize(\\'ctl00$ScriptManager1\\', \\'aspnetForm\\', [], [], [], 90, \\'ctl00\\');\\r\\n//]]>\\r\\n</script>\\r\\n\\r\\n        <!-- headScript is for script that runs before the content section loaded -->\\r\\n        \\r\\n        <div id=\"Wrapper\">\\r\\n            \\r\\n    <div align=\"center\">\\r\\n        <table>\\r\\n            <tr>\\r\\n                <td align=\"center\"><font color=\"navy\" size=\"3\"><b>Logging In. Please wait...</b></font>\\r\\n                </td>\\r\\n            </tr>\\r\\n        </table>\\r\\n    </div>\\r\\n\\r\\n        </div>\\r\\n        <!-- footScript is for script that runs after the content section loaded -->\\r\\n        <script src=\"https://ssl.google-analytics.com/urchin.js\" type=\"text/javascript\"></script><script type=\"text/javascript\">_uacct = \"UA-219617-1\";urchinTracker();</script>\\r\\n        <span id=\"ctl00_lblServer\" style=\"color:WhiteSmoke;font-size:X-Small;\">GREEN11. Version: 5/6/2019 2:06:02 PM</span>\\r\\n    </form>\\r\\n    <script type=\"text/javascript\" src=\"https://stackpath.bootstrapcdn.com/bootstrap/4.1.1/js/bootstrap.min.js\"></script>    \\r\\n    <script type=\"text/javascript\" src=\"/js/fontawesome-all.min.js\"></script>\\r\\n</body>\\r\\n</html>\\r\\n'\n"
     ]
    }
   ],
   "source": [
    "import requests\n",
    "from bs4 import BeautifulSoup\n",
    "\n",
    "headers = {\n",
    "    \"User-Agent\": 'Mozilla/5.0 (Windows NT 10.0; Win64; x64) AppleWebKit/537.36 (KHTML, like Gecko) Chrome/73.0.3683.103 Safari/537.36'\n",
    "}\n",
    "\n",
    "payload = {\n",
    "    '__EVENTTARGET': '',\n",
    "    '__EVENTARGUMENT': '',\n",
    "    '__VIEWSTATE': '',\n",
    "    '__VIEWSTATEGENERATOR': '3403B62B',\n",
    "    'ctl00$ContentPlaceHolder1$Signin1$txtEmail': 'caducityx@yahoo.com',\n",
    "    'ctl00$ContentPlaceHolder1$Signin1$txtPassword': '(NotPassw0rd)',\n",
    "    'ctl00$ContentPlaceHolder1$Signin1$btnLogin': 'Sign In'\n",
    "}\n",
    "\n",
    "# Use 'with' to ensure the session context is closed after use.\n",
    "with requests.Session() as s:\n",
    "        url = 'https://www.melissa.com/user/signin.aspx?src=https://www.melissa.com/'\n",
    "        r = s.get(url, headers=headers)\n",
    "        c = r.content\n",
    "        \n",
    "        soup = BeautifulSoup(c, \"html.parser\")\n",
    "        payload['__VIEWSTATEGENERATOR'] = soup.find(\"input\", {'id': \"__VIEWSTATEGENERATOR\"})['value']\n",
    "        payload['__VIEWSTATE'] = soup.find(\"input\", {'id': \"__VIEWSTATE\"})['value']\n",
    "\n",
    "        p = s.post(url, data=payload, headers=headers)\n",
    "        print(p.content)\n",
    "\n",
    "    # An authorised request.\n",
    "#     r = s.get('A protected web page url')\n",
    "#     print r.text\n"
   ]
  },
  {
   "cell_type": "code",
   "execution_count": 129,
   "metadata": {},
   "outputs": [
    {
     "name": "stdout",
     "output_type": "stream",
     "text": [
      "Looking up carts for 30009\n"
     ]
    },
    {
     "ename": "AttributeError",
     "evalue": "'NoneType' object has no attribute 'find_all'",
     "output_type": "error",
     "traceback": [
      "\u001b[1;31m---------------------------------------------------------------------------\u001b[0m",
      "\u001b[1;31mAttributeError\u001b[0m                            Traceback (most recent call last)",
      "\u001b[1;32m<ipython-input-129-75dbe3e25eba>\u001b[0m in \u001b[0;36m<module>\u001b[1;34m\u001b[0m\n\u001b[0;32m     18\u001b[0m \u001b[1;33m\u001b[0m\u001b[0m\n\u001b[0;32m     19\u001b[0m     \u001b[0mprint\u001b[0m\u001b[1;33m(\u001b[0m\u001b[1;34mf\"Looking up carts for {codes}\"\u001b[0m\u001b[1;33m)\u001b[0m\u001b[1;33m\u001b[0m\u001b[0m\n\u001b[1;32m---> 20\u001b[1;33m     \u001b[0mtable_row\u001b[0m \u001b[1;33m=\u001b[0m \u001b[0mtable\u001b[0m\u001b[1;33m.\u001b[0m\u001b[0mfind_all\u001b[0m\u001b[1;33m(\u001b[0m\u001b[1;34m\"tr\"\u001b[0m\u001b[1;33m)\u001b[0m\u001b[1;33m\u001b[0m\u001b[0m\n\u001b[0m\u001b[0;32m     21\u001b[0m     \u001b[1;32mfor\u001b[0m \u001b[0mx\u001b[0m \u001b[1;32min\u001b[0m \u001b[0mrange\u001b[0m\u001b[1;33m(\u001b[0m\u001b[1;36m1\u001b[0m\u001b[1;33m,\u001b[0m \u001b[0mlen\u001b[0m\u001b[1;33m(\u001b[0m\u001b[0mtable_row\u001b[0m\u001b[1;33m)\u001b[0m\u001b[1;33m)\u001b[0m\u001b[1;33m:\u001b[0m\u001b[1;33m\u001b[0m\u001b[0m\n\u001b[0;32m     22\u001b[0m         \u001b[0mcart\u001b[0m \u001b[1;33m=\u001b[0m \u001b[0mtable_row\u001b[0m\u001b[1;33m[\u001b[0m\u001b[0mx\u001b[0m\u001b[1;33m]\u001b[0m\u001b[1;33m.\u001b[0m\u001b[0mfind\u001b[0m\u001b[1;33m(\u001b[0m\u001b[1;34m\"td\"\u001b[0m\u001b[1;33m)\u001b[0m\u001b[1;33m.\u001b[0m\u001b[0mtext\u001b[0m\u001b[1;33m\u001b[0m\u001b[0m\n",
      "\u001b[1;31mAttributeError\u001b[0m: 'NoneType' object has no attribute 'find_all'"
     ]
    }
   ],
   "source": [
    "import requests\n",
    "from bs4 import BeautifulSoup\n",
    "import pandas\n",
    "\n",
    "zipcodes = ['30009', '30022', '30076', '30075', '30076', '30350']  # Roswell zipcodes\n",
    "\n",
    "address_list_complete = []\n",
    "\n",
    "for codes in zipcodes:\n",
    "    r = requests.get(f\"https://www.melissa.com/v2/lookups/cartzip/zipcode?zipcode={codes}\")\n",
    "    c = r.content\n",
    "\n",
    "    soup = BeautifulSoup(c, \"html.parser\")\n",
    "\n",
    "    carts = []\n",
    "\n",
    "    table = soup.find(\"table\", {\"id\": \"tableOne\"})\n",
    "\n",
    "    print(f\"Looking up carts for {codes}\")\n",
    "    table_row = table.find_all(\"tr\")\n",
    "    for x in range(1, len(table_row)):\n",
    "        cart = table_row[x].find(\"td\").text\n",
    "        if 'C' in cart or 'R' in cart:\n",
    "            carts.append(cart.strip())\n",
    "\n",
    "    for cart in carts:\n",
    "        r = requests.get(f\"https://www.melissa.com/v2/lookups/cartzip/zipcode/{codes}/{cart}\")\n",
    "        c = r.content\n",
    "\n",
    "        soup = BeautifulSoup(c, \"html.parser\")\n",
    "\n",
    "        address_list = []\n",
    "\n",
    "        table = soup.find(\"table\", {\"id\": \"tableZip4List\"})\n",
    "\n",
    "        table_row = table.find_all(\"tr\")\n",
    "        for x in range(1, len(table_row)):\n",
    "            line = table_row[1].find_all(\"td\")\n",
    "            grouping = []\n",
    "            for i in line[:2]:\n",
    "                if i.text:\n",
    "                    grouping.append(i.text.strip())\n",
    "            address_list.append(grouping)\n",
    "\n",
    "        def address_count(start, end, street, scale, zipcode, single=False):\n",
    "            global address_list_complete\n",
    "            if single:\n",
    "                address_list_complete.append(f\"{start} {street} Roswell, GA {zipcode}\")\n",
    "            else:\n",
    "                starter = int(start)\n",
    "                length = int((int(end) - int(start)) / scale)\n",
    "                for step in range(length):\n",
    "                    address_list_complete.append(f\"{starter} {street} Roswell, GA {zipcode}\")\n",
    "                    starter += scale\n",
    "\n",
    "        def address_maker(address, zipcode):\n",
    "            scale = 1\n",
    "            single = False\n",
    "            if '(' in address[0]:\n",
    "                scale = 2\n",
    "            numbers = address[0].split(' ')\n",
    "            if len(numbers) > 1:\n",
    "                start = numbers[0]\n",
    "                end = numbers[2]\n",
    "            else:\n",
    "                single = True\n",
    "            address_count(start, end, address[1], scale, zipcode, single)\n",
    "        \n",
    "        for address in address_list:\n",
    "            address_maker(address, codes)\n",
    "\n",
    "    df = pandas.DataFrame()\n",
    "    df['Address'] = pandas.DataFrame(data=address_list_complete)\n",
    "    df.to_csv(f\"Address_List_Zip_{codes}.csv\", index=False)\n"
   ]
  }
 ],
 "metadata": {
  "kernelspec": {
   "display_name": "Python 3",
   "language": "python",
   "name": "python3"
  },
  "language_info": {
   "codemirror_mode": {
    "name": "ipython",
    "version": 3
   },
   "file_extension": ".py",
   "mimetype": "text/x-python",
   "name": "python",
   "nbconvert_exporter": "python",
   "pygments_lexer": "ipython3",
   "version": "3.7.0"
  }
 },
 "nbformat": 4,
 "nbformat_minor": 2
}
